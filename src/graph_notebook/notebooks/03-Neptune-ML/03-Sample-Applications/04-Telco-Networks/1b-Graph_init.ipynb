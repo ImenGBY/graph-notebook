{
 "cells": [
  {
   "cell_type": "markdown",
   "id": "21451344-eff7-4c5b-b75d-046fbde1c9a2",
   "metadata": {},
   "source": [
    "# The 5G graph data  loaded \n",
    "Users, Cells, gnodeb, etc. and the known links in between\n",
    "\n",
    "- s3://telcograph/data/user_cell/node_users.csv \n",
    "\n",
    "- s3://telcograph/data/user_cell/node_cell.csv\n",
    "\n",
    "- s3://telcograph/data/user_cell/gnodeb_node.csv\n",
    "\n",
    "- s3://telcograph/data/user_cell/edge_all.csv\n",
    "\n",
    "- s3://telcograph/data/user_cell/edge_gnodeb.csv\n"
   ]
  },
  {
   "cell_type": "code",
   "execution_count": 1,
   "id": "960dfe5d-67ce-43fd-85a4-6b1593790581",
   "metadata": {
    "tags": []
   },
   "outputs": [],
   "source": [
    "# #load command for loading the graph from S3 to Neptunedb\n",
    "%load"
   ]
  }
 ],
 "metadata": {
  "kernelspec": {
   "display_name": "Python 3",
   "language": "python",
   "name": "python3"
  },
  "language_info": {
   "codemirror_mode": {
    "name": "ipython",
    "version": 3
   },
   "file_extension": ".py",
   "mimetype": "text/x-python",
   "name": "python",
   "nbconvert_exporter": "python",
   "pygments_lexer": "ipython3",
   "version": "3.9.6"
  }
 },
 "nbformat": 4,
 "nbformat_minor": 5
}
