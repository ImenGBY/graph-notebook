{
 "cells": [
  {
   "cell_type": "markdown",
   "id": "d61c99ba-5349-472b-a5bd-f54964d27f17",
   "metadata": {
    "tags": []
   },
   "source": [
    "## model set up"
   ]
  },
  {
   "cell_type": "code",
   "execution_count": 8,
   "id": "60a09cea-ae76-45d0-9dc1-860fc3ad833f",
   "metadata": {
    "tags": []
   },
   "outputs": [],
   "source": [
    "!pip install langchain --quiet"
   ]
  },
  {
   "cell_type": "code",
   "execution_count": 10,
   "id": "fb336cc7-2316-43a3-ac3d-6984b08ef228",
   "metadata": {
    "tags": []
   },
   "outputs": [],
   "source": [
    "import warnings\n",
    "import langchain\n",
    "# langchain.__version__\n",
    "import boto3\n",
    "from langchain.chat_models import BedrockChat\n",
    "from langchain.chains import NeptuneOpenCypherQAChain\n",
    "from langchain.graphs import NeptuneGraph"
   ]
  },
  {
   "cell_type": "code",
   "execution_count": 12,
   "id": "2a4b753d-6e9c-4f62-86b5-259165ff9f91",
   "metadata": {
    "tags": []
   },
   "outputs": [],
   "source": [
    "host = \"from cloudformation\" # to be copied from the cloudformation e.g. cluter.cluster-xxxxxxxx.region.neptune.amazonaws.com\n",
    "port = 8182\n",
    "use_https = True"
   ]
  },
  {
   "cell_type": "code",
   "execution_count": 13,
   "id": "4bc8717c-1d03-442d-9517-6adaa8768d09",
   "metadata": {
    "tags": []
   },
   "outputs": [],
   "source": [
    "graph = NeptuneGraph(host=host, port=port, use_https=use_https)"
   ]
  },
  {
   "cell_type": "code",
   "execution_count": 17,
   "id": "4e5bd3a5-02d5-4cc6-8caa-df08659aaed7",
   "metadata": {
    "tags": []
   },
   "outputs": [],
   "source": [
    "client = boto3.client('bedrock-runtime', region_name='us-west-2')\n",
    "\n",
    "\n",
    "llm = BedrockChat(\n",
    "    model_id = \"anthropic.claude-v2\",\n",
    "    client = client\n",
    ")\n",
    "\n",
    "chain = NeptuneOpenCypherQAChain.from_llm(\n",
    "    llm = llm, graph = graph, verbose = True, top_K = 10, return_intermediate_steps=True, return_direct=False\n",
    ")"
   ]
  },
  {
   "cell_type": "markdown",
   "id": "22910c4b-79de-440d-a2a2-0c4409bd4423",
   "metadata": {},
   "source": [
    "# Explore edges"
   ]
  },
  {
   "cell_type": "code",
   "execution_count": 18,
   "id": "845025be-87a9-4aaa-8855-8b0bb17010ad",
   "metadata": {
    "tags": []
   },
   "outputs": [
    {
     "name": "stdout",
     "output_type": "stream",
     "text": [
      "\n",
      "\n",
      "\u001b[1m> Entering new NeptuneOpenCypherQAChain chain...\u001b[0m\n",
      "Generated Cypher:\n",
      "\u001b[32;1m\u001b[1;3mMATCH (u:user)-[r:user_live_cell]->(c:cell)\n",
      "RETURN COUNT(r) AS num_edges\n",
      "\u001b[0m\n",
      "Full Context:\n",
      "\u001b[32;1m\u001b[1;3m{'ResponseMetadata': {'HTTPStatusCode': 200, 'HTTPHeaders': {'transfer-encoding': 'chunked', 'content-type': 'application/json;charset=UTF-8'}, 'RetryAttempts': 0}, 'results': [{'num_edges': 1754981}]}\u001b[0m\n",
      "\n",
      "\u001b[1m> Finished chain.\u001b[0m\n"
     ]
    },
    {
     "data": {
      "text/plain": [
       "'Based on the provided information, there are 1754981 edges between the users and the cells in the graph.'"
      ]
     },
     "execution_count": 18,
     "metadata": {},
     "output_type": "execute_result"
    }
   ],
   "source": [
    "chain.run(\"how many edges between the users and the cells in the graph?\")"
   ]
  },
  {
   "cell_type": "code",
   "execution_count": 20,
   "id": "6e8cfaf2-761a-48d3-b704-e058a21d679b",
   "metadata": {
    "tags": []
   },
   "outputs": [
    {
     "name": "stdout",
     "output_type": "stream",
     "text": [
      "\n",
      "\n",
      "\u001b[1m> Entering new NeptuneOpenCypherQAChain chain...\u001b[0m\n",
      "Generated Cypher:\n",
      "\u001b[32;1m\u001b[1;3mMATCH (u:user)\n",
      "RETURN count(u) as num_users\n",
      "\u001b[0m\n",
      "Full Context:\n",
      "\u001b[32;1m\u001b[1;3m{'ResponseMetadata': {'HTTPStatusCode': 200, 'HTTPHeaders': {'transfer-encoding': 'chunked', 'content-type': 'application/json;charset=UTF-8'}, 'RetryAttempts': 0}, 'results': [{'num_users': 5002}]}\u001b[0m\n",
      "\n",
      "\u001b[1m> Finished chain.\u001b[0m\n"
     ]
    },
    {
     "data": {
      "text/plain": [
       "'Based on the provided information, the results show that there are 5002 users.'"
      ]
     },
     "execution_count": 20,
     "metadata": {},
     "output_type": "execute_result"
    }
   ],
   "source": [
    "chain.run(\"how many vertexes of type user\")"
   ]
  },
  {
   "cell_type": "code",
   "execution_count": 21,
   "id": "5b4dabd3-6369-4853-a767-359babef7be1",
   "metadata": {
    "tags": []
   },
   "outputs": [
    {
     "name": "stdout",
     "output_type": "stream",
     "text": [
      "\n",
      "\n",
      "\u001b[1m> Entering new NeptuneOpenCypherQAChain chain...\u001b[0m\n",
      "Generated Cypher:\n",
      "\u001b[32;1m\u001b[1;3mMATCH (n:cell) RETURN count(n)\n",
      "\u001b[0m\n",
      "Full Context:\n",
      "\u001b[32;1m\u001b[1;3m{'ResponseMetadata': {'HTTPStatusCode': 200, 'HTTPHeaders': {'transfer-encoding': 'chunked', 'content-type': 'application/json;charset=UTF-8'}, 'RetryAttempts': 0}, 'results': [{'count(n)': 69000}]}\u001b[0m\n",
      "\n",
      "\u001b[1m> Finished chain.\u001b[0m\n"
     ]
    },
    {
     "data": {
      "text/plain": [
       "'Based on the information provided, the results indicate that there are 69000 nodes of type cell.'"
      ]
     },
     "execution_count": 21,
     "metadata": {},
     "output_type": "execute_result"
    }
   ],
   "source": [
    "chain.run(\"how many nodes of type cell\")"
   ]
  },
  {
   "cell_type": "code",
   "execution_count": 22,
   "id": "1f53149c-23ca-4702-a32d-33f4e4a662b6",
   "metadata": {
    "tags": []
   },
   "outputs": [
    {
     "name": "stdout",
     "output_type": "stream",
     "text": [
      "\n",
      "\n",
      "\u001b[1m> Entering new NeptuneOpenCypherQAChain chain...\u001b[0m\n",
      "Generated Cypher:\n",
      "\u001b[32;1m\u001b[1;3mMATCH (n:gnodeb) RETURN count(n)\n",
      "\u001b[0m\n",
      "Full Context:\n",
      "\u001b[32;1m\u001b[1;3m{'ResponseMetadata': {'HTTPStatusCode': 200, 'HTTPHeaders': {'transfer-encoding': 'chunked', 'content-type': 'application/json;charset=UTF-8'}, 'RetryAttempts': 0}, 'results': [{'count(n)': 5000}]}\u001b[0m\n",
      "\n",
      "\u001b[1m> Finished chain.\u001b[0m\n"
     ]
    },
    {
     "data": {
      "text/plain": [
       "'Based on the provided information, the results show that there are 5000 vertexes of type gnodeb.'"
      ]
     },
     "execution_count": 22,
     "metadata": {},
     "output_type": "execute_result"
    }
   ],
   "source": [
    "chain.run(\"how many vertexes of type gnodeb\")"
   ]
  },
  {
   "cell_type": "code",
   "execution_count": 26,
   "id": "0d658504-0c87-4fe5-8e7c-0581d828f5b8",
   "metadata": {
    "tags": []
   },
   "outputs": [
    {
     "name": "stdout",
     "output_type": "stream",
     "text": [
      "\n",
      "\n",
      "\u001b[1m> Entering new NeptuneOpenCypherQAChain chain...\u001b[0m\n",
      "Generated Cypher:\n",
      "\u001b[32;1m\u001b[1;3mMATCH ()-[r]->() \n",
      "RETURN DISTINCT TYPE(r) AS edge_type\n",
      "LIMIT 2\n",
      "\u001b[0m\n",
      "Full Context:\n",
      "\u001b[32;1m\u001b[1;3m{'ResponseMetadata': {'HTTPStatusCode': 200, 'HTTPHeaders': {'transfer-encoding': 'chunked', 'content-type': 'application/json;charset=UTF-8'}, 'RetryAttempts': 0}, 'results': [{'edge_type': 'user_live_cell'}, {'edge_type': 'cell_relatedto_gnodeb'}]}\u001b[0m\n",
      "\n",
      "\u001b[1m> Finished chain.\u001b[0m\n"
     ]
    },
    {
     "data": {
      "text/plain": [
       "'Based on the provided information, the two types of edges are:\\n\\nuser_live_cell\\ncell_relatedto_gnodeb'"
      ]
     },
     "execution_count": 26,
     "metadata": {},
     "output_type": "execute_result"
    }
   ],
   "source": [
    "chain.run(\"list the two types of edges\")"
   ]
  },
  {
   "cell_type": "code",
   "execution_count": 27,
   "id": "69b7fc44-b5a1-464f-b414-363ac7e48ac1",
   "metadata": {
    "tags": []
   },
   "outputs": [
    {
     "name": "stdout",
     "output_type": "stream",
     "text": [
      "\n",
      "\n",
      "\u001b[1m> Entering new NeptuneOpenCypherQAChain chain...\u001b[0m\n",
      "Generated Cypher:\n",
      "\u001b[32;1m\u001b[1;3mMATCH (u:user)-[r:user_live_cell]->(c:cell)-[rc:cell_relatedto_gnodeb]->(g:gnodeb)\n",
      "RETURN COUNT(rc) AS edge_count\n",
      "\u001b[0m\n",
      "Full Context:\n",
      "\u001b[32;1m\u001b[1;3m{'ResponseMetadata': {'HTTPStatusCode': 200, 'HTTPHeaders': {'transfer-encoding': 'chunked', 'content-type': 'application/json;charset=UTF-8'}, 'RetryAttempts': 0}, 'results': [{'edge_count': 1754981}]}\u001b[0m\n",
      "\n",
      "\u001b[1m> Finished chain.\u001b[0m\n"
     ]
    },
    {
     "data": {
      "text/plain": [
       "'Based on the provided information, the edge count between the cell and gnodeb is 1754981.'"
      ]
     },
     "execution_count": 27,
     "metadata": {},
     "output_type": "execute_result"
    }
   ],
   "source": [
    "chain.run(\"count the edges between the cell and gnodeb ?\")"
   ]
  },
  {
   "cell_type": "code",
   "execution_count": 28,
   "id": "75711c07-ee2b-44c1-be42-bd2bd514c622",
   "metadata": {
    "tags": []
   },
   "outputs": [
    {
     "name": "stdout",
     "output_type": "stream",
     "text": [
      "\n",
      "\n",
      "\u001b[1m> Entering new NeptuneOpenCypherQAChain chain...\u001b[0m\n",
      "Generated Cypher:\n",
      "\u001b[32;1m\u001b[1;3mMATCH (u:user)-[r1:user_live_cell]->(c:cell), (c)-[r2:cell_relatedto_gnodeb]->(g:gnodeb)\n",
      "RETURN count(r1) AS user_live_cell_edges, count(r2) AS cell_relatedto_gnodeb_edges\n",
      "\u001b[0m\n",
      "Full Context:\n",
      "\u001b[32;1m\u001b[1;3m{'ResponseMetadata': {'HTTPStatusCode': 200, 'HTTPHeaders': {'transfer-encoding': 'chunked', 'content-type': 'application/json;charset=UTF-8'}, 'RetryAttempts': 0}, 'results': [{'user_live_cell_edges': 1754981, 'cell_relatedto_gnodeb_edges': 1754981}]}\u001b[0m\n",
      "\n",
      "\u001b[1m> Finished chain.\u001b[0m\n"
     ]
    },
    {
     "data": {
      "text/plain": [
       "'Based on the provided information, there are 1754981 edges for both cell_relatedto_gnodeb and user_live_cell.'"
      ]
     },
     "execution_count": 28,
     "metadata": {},
     "output_type": "execute_result"
    }
   ],
   "source": [
    "chain.run(\"count how many edges for cell_relatedto_gnodeb and user_live_cell\")"
   ]
  },
  {
   "cell_type": "code",
   "execution_count": 32,
   "id": "dafb88cc-6969-45ec-bc6c-4329dd5ca092",
   "metadata": {
    "tags": []
   },
   "outputs": [
    {
     "name": "stdout",
     "output_type": "stream",
     "text": [
      "\n",
      "\n",
      "\u001b[1m> Entering new NeptuneOpenCypherQAChain chain...\u001b[0m\n",
      "Generated Cypher:\n",
      "\u001b[32;1m\u001b[1;3mMATCH (n)\n",
      "RETURN DISTINCT labels(n) AS vertex_types\n",
      "\u001b[0m\n",
      "Full Context:\n",
      "\u001b[32;1m\u001b[1;3m{'ResponseMetadata': {'HTTPStatusCode': 200, 'HTTPHeaders': {'transfer-encoding': 'chunked', 'content-type': 'application/json;charset=UTF-8'}, 'RetryAttempts': 0}, 'results': [{'vertex_types': ['user']}, {'vertex_types': ['cell']}, {'vertex_types': ['gnodeb']}]}\u001b[0m\n",
      "\n",
      "\u001b[1m> Finished chain.\u001b[0m\n"
     ]
    },
    {
     "data": {
      "text/plain": [
       "'Based on the provided information, the types of vertex are:\\n\\n- user\\n- cell \\n- gnodeb'"
      ]
     },
     "execution_count": 32,
     "metadata": {},
     "output_type": "execute_result"
    }
   ],
   "source": [
    "chain.run(\"what are the types of vertex ?\")"
   ]
  },
  {
   "cell_type": "code",
   "execution_count": 34,
   "id": "acb64772-b929-45dd-8402-4ba82ae93cfe",
   "metadata": {
    "tags": []
   },
   "outputs": [
    {
     "name": "stdout",
     "output_type": "stream",
     "text": [
      "\n",
      "\n",
      "\u001b[1m> Entering new NeptuneOpenCypherQAChain chain...\u001b[0m\n",
      "Generated Cypher:\n",
      "\u001b[32;1m\u001b[1;3mMATCH (u:user {name: \"user_1500\"})-[:user_live_cell]->(c:cell)\n",
      "RETURN c\n",
      "\u001b[0m\n",
      "Full Context:\n",
      "\u001b[32;1m\u001b[1;3m{'ResponseMetadata': {'HTTPStatusCode': 200, 'HTTPHeaders': {'transfer-encoding': 'chunked', 'content-type': 'application/json;charset=UTF-8'}, 'RetryAttempts': 0}, 'results': []}\u001b[0m\n",
      "\n",
      "\u001b[1m> Finished chain.\u001b[0m\n"
     ]
    },
    {
     "data": {
      "text/plain": [
       "\"Based on the provided information, I don't know the answer. The provided information is empty.\""
      ]
     },
     "execution_count": 34,
     "metadata": {},
     "output_type": "execute_result"
    }
   ],
   "source": [
    "chain.run(\"to which cells the user_1500 is connceted\")"
   ]
  },
  {
   "cell_type": "code",
   "execution_count": null,
   "id": "aee5eb2b-c543-4b86-94bb-86254c097fa6",
   "metadata": {},
   "outputs": [],
   "source": []
  }
 ],
 "metadata": {
  "kernelspec": {
   "display_name": "Python 3",
   "language": "python",
   "name": "python3"
  },
  "language_info": {
   "codemirror_mode": {
    "name": "ipython",
    "version": 3
   },
   "file_extension": ".py",
   "mimetype": "text/x-python",
   "name": "python",
   "nbconvert_exporter": "python",
   "pygments_lexer": "ipython3",
   "version": "3.10.8"
  }
 },
 "nbformat": 4,
 "nbformat_minor": 5
}
